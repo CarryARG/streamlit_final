{
 "cells": [
  {
   "cell_type": "markdown",
   "metadata": {},
   "source": [
    "# 01. Importamos las librerias"
   ]
  },
  {
   "cell_type": "code",
   "execution_count": 2,
   "metadata": {},
   "outputs": [],
   "source": [
    "import pandas as pd # Cargamos la libreria de \"pandas\" para la manipulación y el análisis de datos\n",
    "import numpy as np # Cargamos la librería de \"numpy\" para realizar cálculos lógicos y matemáticos sobre cuadros y matrices en el caso que lo necesitemos\n",
    "import pyarrow #Cargando la librería \"json\" nos permitira manipular archivos tipo parquet\n",
    "import re\n",
    "import os"
   ]
  },
  {
   "cell_type": "markdown",
   "metadata": {},
   "source": [
    "# 02. Leemos los datasets para el Modelado del Sistema de Recomendación"
   ]
  },
  {
   "cell_type": "code",
   "execution_count": 3,
   "metadata": {},
   "outputs": [],
   "source": [
    "# Leerlos desde local\n",
    "path = 'data/recommend.parquet'\n",
    "df_recommend = pd.read_parquet(path)"
   ]
  },
  {
   "cell_type": "markdown",
   "metadata": {},
   "source": [
    "# 03. Seleccionar un Estado"
   ]
  },
  {
   "cell_type": "code",
   "execution_count": 8,
   "metadata": {},
   "outputs": [
    {
     "name": "stdout",
     "output_type": "stream",
     "text": [
      "Estados a Seleccionar: \n",
      "_____________________________\n",
      "['Alabama' 'Louisiana' 'Mississippi' 'South Carolina' 'Wisconsin'\n",
      " 'Maryland' 'North Carolina' 'South Dakota' 'Texas' 'Kansas' 'Illinois'\n",
      " 'Virginia' 'Massachusetts' 'Pennsylvania' 'New Jersey' 'California'\n",
      " 'Maine' 'Georgia' 'Ohio' 'Oklahoma' 'Kentucky' 'New York' 'Tennessee'\n",
      " 'Michigan' 'Minnesota' 'Missouri' 'Wyoming' 'Arizona' 'Hawaii' 'Iowa'\n",
      " 'Nebraska' 'Colorado' 'Indiana' 'Florida' 'New Mexico' 'Oregon' 'Montana'\n",
      " 'New Hampshire' 'Arkansas' 'Nevada' 'Idaho' 'Utah' 'Washington' 'Alaska'\n",
      " 'Connecticut' 'West Virginia' 'Vermont' 'Rhode Island' 'Delaware'\n",
      " 'North Dakota' '0' 'District of Columbia']\n"
     ]
    }
   ],
   "source": [
    "Lista_Estados = df_recommend.state_name.unique()\n",
    "print('Estados a Seleccionar: ')\n",
    "print(\"_____________________________\")\n",
    "print(Lista_Estados)"
   ]
  },
  {
   "cell_type": "code",
   "execution_count": 9,
   "metadata": {},
   "outputs": [],
   "source": [
    "# Convert it to a DataFrame\n",
    "df_lista_estados = pd.DataFrame(Lista_Estados, columns=['State'])\n",
    "\n",
    "# Save the DataFrame to a CSV file\n",
    "df_lista_estados.to_csv('data/lista_de_estados.csv', index=False)"
   ]
  },
  {
   "cell_type": "markdown",
   "metadata": {},
   "source": [
    "# 04. Seleccionar un County"
   ]
  },
  {
   "cell_type": "code",
   "execution_count": 20,
   "metadata": {},
   "outputs": [
    {
     "name": "stdout",
     "output_type": "stream",
     "text": [
      "Seleccionar un County de  California :\n",
      "__________________________________________________\n",
      "['San Joaquin' 'San Bernardino' 'Los Angeles' 'Alameda' 'Contra Costa'\n",
      " 'Orange' 'San Diego' 'Modoc' 'Napa' 'Shasta' 'Calaveras' 'Santa Cruz'\n",
      " 'Colusa' 'Humboldt' 'Kings' 'Monterey' 'San Luis Obispo' 'Kern' 'Merced'\n",
      " 'Placer' 'Fresno' 'Riverside' 'San Mateo' 'Solano' 'Tuolumne' 'Inyo'\n",
      " 'Sonoma' 'Mendocino' 'Imperial' 'Yuba' 'Santa Barbara' 'Ventura'\n",
      " 'El Dorado' 'Santa Clara' 'Sacramento' 'Stanislaus' 'Plumas' 'Butte'\n",
      " 'Madera' 'Lake' 'Tehama' 'Mariposa' 'Del Norte' 'Yolo' 'Tulare' 'Marin'\n",
      " 'Nevada' 'Siskiyou' 'San Benito' 'Amador' 'Lassen' 'Sutter' 'Glenn'\n",
      " 'San Francisco' 'Allegheny' 'Trinity']\n"
     ]
    }
   ],
   "source": [
    "# Specify the state for which you want to list unique county values\n",
    "selected_state = 'California'  # Replace 'Your_State_Name_Here' with the desired state name\n",
    "\n",
    "# Filter the DataFrame for the selected state\n",
    "state_filtered_df = df_recommend[df_recommend['state_name'] == selected_state]\n",
    "\n",
    "# Get the unique county values for the selected state\n",
    "unique_county_values = state_filtered_df['county'].unique()\n",
    "\n",
    "# Display the unique county values for the selected state\n",
    "print(\"Seleccionar un County de \", selected_state, \":\")\n",
    "print(\"__________________________________________________\")\n",
    "print(unique_county_values)"
   ]
  },
  {
   "cell_type": "markdown",
   "metadata": {},
   "source": [
    "# 05. Recomendar una lista de 5 ciudades donde convenga invertir segun cantidad de tiendas por densidad poblacional y GDP\n",
    "\n",
    "Nos proponemos crear una función que, aplicando filtrado interactivo y colaborativo, proporcionará una lista de las 5 ciudades del Estado y Condado seleccionado.\n",
    "<br>\n",
    "En esta primera función, la entrada es el Estado y luego para ese Estado,el Condado, que es el que se analizara."
   ]
  },
  {
   "cell_type": "code",
   "execution_count": 13,
   "metadata": {},
   "outputs": [],
   "source": [
    "def recomendar_locacion(state_name,county):\n",
    "    '''\n",
    "    Al darle como Input un Estado, se crea una matriz unica de county a seleccionar de ese estado seleccionado.\n",
    "    Con el dato de County calcula las ciudades de ese county que menor presencia tiene Walgreens y menos saturado el mercado por cantidad de habitantes de la ciudad\n",
    "    Genera un output de 5 recomendaciones por Condado, de las 5 mejores ciudades donde instalar una tienda Walgreens\n",
    "    '''\n",
    "    \n",
    "    # For that State, select the available county\n",
    "    selected_state = state_name\n",
    "    selected_county = county\n",
    "\n",
    "    # Leerlos desde local\n",
    "    path = 'data/recommend.parquet'\n",
    "    df_recommend = pd.read_parquet(path)\n",
    "    # Filter the DataFrame for the selected state and county\n",
    "    county_filtered_df = df_recommend[(df_recommend['state_name'] == selected_state) & (df_recommend['county'] == selected_county)]\n",
    "\n",
    "    # Get the unique city values for the selected state and county\n",
    "    unique_city_values = county_filtered_df['city'].unique()\n",
    "\n",
    "    # Display the unique city values for the selected state and county\n",
    "    # print(\"Unique city values for\", selected_county, \"County,\", selected_state, \":\", unique_city_values)\n",
    "\n",
    "    # Sort the DataFrame by 'ratio_stores' column in ascending order\n",
    "    sorted_county_filtered_df = county_filtered_df.sort_values(by='ratio_stores', ascending=True)\n",
    "\n",
    "    # Calculate the total number of stores\n",
    "    sorted_county_filtered_df['Total_Number_Stores'] = sorted_county_filtered_df['total_others_stores'] + sorted_county_filtered_df['total_walgreens_stores']\n",
    "\n",
    "    # Calculate Walgreens presence\n",
    "    sorted_county_filtered_df['Walgreens_Presence_%'] = round((sorted_county_filtered_df['total_walgreens_stores'] / sorted_county_filtered_df['Total_Number_Stores']) * 100, 2)\n",
    "\n",
    "    sorted_county_filtered_df_display = sorted_county_filtered_df.drop(['city_state_county', 'county', 'state', 'state_name','others_total_reviews', 'others_average_rating', 'total_others_stores',\n",
    "        'walgreens_average_rating','walgreens_total_reviews', 'population', 'density', 'ratio_stores'],axis=1) \n",
    "    sorted_county_filtered_df_display.rename(columns={'total_walgreens_stores': 'Total_Walgreens_Stores'},inplace=True)\n",
    "    \n",
    "    new_order = [ 'city','Total_Number_Stores','Total_Walgreens_Stores','Walgreens_Presence_%']\n",
    "    sorted_county_filtered_df_display = sorted_county_filtered_df_display[new_order]\n",
    "    print('Las Top 5 Ciudades recomendadas donde emplazar nuevas Tiendas de Walgreens')\n",
    "    print('para el Condado de ',county,' en el Estado de ', state_name, 'son: ') \n",
    "    print('_____________________________________________________________________')\n",
    "    # Display the DataFrame with the new columns\n",
    "    return sorted_county_filtered_df_display.head()"
   ]
  },
  {
   "cell_type": "code",
   "execution_count": 14,
   "metadata": {},
   "outputs": [],
   "source": [
    "# input\n",
    "selected_state = 'California'\n",
    "selected_county = 'San Diego'"
   ]
  },
  {
   "cell_type": "code",
   "execution_count": 15,
   "metadata": {},
   "outputs": [
    {
     "name": "stdout",
     "output_type": "stream",
     "text": [
      "Las Top 5 Ciudades recomendadas donde emplazar nuevas Tiendas de Walgreens\n",
      "para el Condado de  San Diego  en el Estado de  California son: \n",
      "_____________________________________________________________________\n"
     ]
    },
    {
     "data": {
      "text/html": [
       "<div>\n",
       "<style scoped>\n",
       "    .dataframe tbody tr th:only-of-type {\n",
       "        vertical-align: middle;\n",
       "    }\n",
       "\n",
       "    .dataframe tbody tr th {\n",
       "        vertical-align: top;\n",
       "    }\n",
       "\n",
       "    .dataframe thead th {\n",
       "        text-align: right;\n",
       "    }\n",
       "</style>\n",
       "<table border=\"1\" class=\"dataframe\">\n",
       "  <thead>\n",
       "    <tr style=\"text-align: right;\">\n",
       "      <th></th>\n",
       "      <th>city</th>\n",
       "      <th>Total_Number_Stores</th>\n",
       "      <th>Total_Walgreens_Stores</th>\n",
       "      <th>Walgreens_Presence_%</th>\n",
       "    </tr>\n",
       "  </thead>\n",
       "  <tbody>\n",
       "    <tr>\n",
       "      <th>9491</th>\n",
       "      <td>San Diego</td>\n",
       "      <td>129.0</td>\n",
       "      <td>2.0</td>\n",
       "      <td>1.55</td>\n",
       "    </tr>\n",
       "    <tr>\n",
       "      <th>8786</th>\n",
       "      <td>Poway</td>\n",
       "      <td>4.0</td>\n",
       "      <td>1.0</td>\n",
       "      <td>25.00</td>\n",
       "    </tr>\n",
       "    <tr>\n",
       "      <th>9509</th>\n",
       "      <td>San Marcos</td>\n",
       "      <td>8.0</td>\n",
       "      <td>0.0</td>\n",
       "      <td>0.00</td>\n",
       "    </tr>\n",
       "    <tr>\n",
       "      <th>2409</th>\n",
       "      <td>Coronado</td>\n",
       "      <td>2.0</td>\n",
       "      <td>0.0</td>\n",
       "      <td>0.00</td>\n",
       "    </tr>\n",
       "    <tr>\n",
       "      <th>7958</th>\n",
       "      <td>Oceanside</td>\n",
       "      <td>15.0</td>\n",
       "      <td>0.0</td>\n",
       "      <td>0.00</td>\n",
       "    </tr>\n",
       "  </tbody>\n",
       "</table>\n",
       "</div>"
      ],
      "text/plain": [
       "            city  Total_Number_Stores  Total_Walgreens_Stores  \\\n",
       "9491   San Diego                129.0                     2.0   \n",
       "8786       Poway                  4.0                     1.0   \n",
       "9509  San Marcos                  8.0                     0.0   \n",
       "2409    Coronado                  2.0                     0.0   \n",
       "7958   Oceanside                 15.0                     0.0   \n",
       "\n",
       "      Walgreens_Presence_%  \n",
       "9491                  1.55  \n",
       "8786                 25.00  \n",
       "9509                  0.00  \n",
       "2409                  0.00  \n",
       "7958                  0.00  "
      ]
     },
     "execution_count": 15,
     "metadata": {},
     "output_type": "execute_result"
    }
   ],
   "source": [
    "recomendar_locacion(selected_state,selected_county)"
   ]
  },
  {
   "cell_type": "code",
   "execution_count": 16,
   "metadata": {},
   "outputs": [
    {
     "name": "stdout",
     "output_type": "stream",
     "text": [
      "Las Top 5 Ciudades recomendadas donde emplazar nuevas Tiendas de Walgreens\n",
      "para el Condado de  Miami-Dade  en el Estado de  Florida son: \n",
      "_____________________________________________________________________\n"
     ]
    },
    {
     "data": {
      "text/html": [
       "<div>\n",
       "<style scoped>\n",
       "    .dataframe tbody tr th:only-of-type {\n",
       "        vertical-align: middle;\n",
       "    }\n",
       "\n",
       "    .dataframe tbody tr th {\n",
       "        vertical-align: top;\n",
       "    }\n",
       "\n",
       "    .dataframe thead th {\n",
       "        text-align: right;\n",
       "    }\n",
       "</style>\n",
       "<table border=\"1\" class=\"dataframe\">\n",
       "  <thead>\n",
       "    <tr style=\"text-align: right;\">\n",
       "      <th></th>\n",
       "      <th>city</th>\n",
       "      <th>Total_Number_Stores</th>\n",
       "      <th>Total_Walgreens_Stores</th>\n",
       "      <th>Walgreens_Presence_%</th>\n",
       "    </tr>\n",
       "  </thead>\n",
       "  <tbody>\n",
       "    <tr>\n",
       "      <th>6893</th>\n",
       "      <td>Miami</td>\n",
       "      <td>153.0</td>\n",
       "      <td>20.0</td>\n",
       "      <td>13.07</td>\n",
       "    </tr>\n",
       "    <tr>\n",
       "      <th>6890</th>\n",
       "      <td>Miami Lakes</td>\n",
       "      <td>2.0</td>\n",
       "      <td>0.0</td>\n",
       "      <td>0.00</td>\n",
       "    </tr>\n",
       "    <tr>\n",
       "      <th>5542</th>\n",
       "      <td>Key Biscayne</td>\n",
       "      <td>1.0</td>\n",
       "      <td>0.0</td>\n",
       "      <td>0.00</td>\n",
       "    </tr>\n",
       "    <tr>\n",
       "      <th>6889</th>\n",
       "      <td>Miami Gardens</td>\n",
       "      <td>9.0</td>\n",
       "      <td>0.0</td>\n",
       "      <td>0.00</td>\n",
       "    </tr>\n",
       "    <tr>\n",
       "      <th>10037</th>\n",
       "      <td>South Miami</td>\n",
       "      <td>1.0</td>\n",
       "      <td>0.0</td>\n",
       "      <td>0.00</td>\n",
       "    </tr>\n",
       "  </tbody>\n",
       "</table>\n",
       "</div>"
      ],
      "text/plain": [
       "                city  Total_Number_Stores  Total_Walgreens_Stores  \\\n",
       "6893           Miami                153.0                    20.0   \n",
       "6890     Miami Lakes                  2.0                     0.0   \n",
       "5542    Key Biscayne                  1.0                     0.0   \n",
       "6889   Miami Gardens                  9.0                     0.0   \n",
       "10037    South Miami                  1.0                     0.0   \n",
       "\n",
       "       Walgreens_Presence_%  \n",
       "6893                  13.07  \n",
       "6890                   0.00  \n",
       "5542                   0.00  \n",
       "6889                   0.00  \n",
       "10037                  0.00  "
      ]
     },
     "execution_count": 16,
     "metadata": {},
     "output_type": "execute_result"
    }
   ],
   "source": [
    "# input\n",
    "selected_state = 'Florida'\n",
    "selected_county = 'Miami-Dade'\n",
    "recomendar_locacion(selected_state,selected_county)"
   ]
  },
  {
   "cell_type": "code",
   "execution_count": 18,
   "metadata": {},
   "outputs": [
    {
     "name": "stdout",
     "output_type": "stream",
     "text": [
      "Las Top 5 Ciudades recomendadas donde emplazar nuevas Tiendas de Walgreens\n",
      "para el Condado de  Dallas  en el Estado de  Texas son: \n",
      "_____________________________________________________________________\n"
     ]
    },
    {
     "data": {
      "text/html": [
       "<div>\n",
       "<style scoped>\n",
       "    .dataframe tbody tr th:only-of-type {\n",
       "        vertical-align: middle;\n",
       "    }\n",
       "\n",
       "    .dataframe tbody tr th {\n",
       "        vertical-align: top;\n",
       "    }\n",
       "\n",
       "    .dataframe thead th {\n",
       "        text-align: right;\n",
       "    }\n",
       "</style>\n",
       "<table border=\"1\" class=\"dataframe\">\n",
       "  <thead>\n",
       "    <tr style=\"text-align: right;\">\n",
       "      <th></th>\n",
       "      <th>city</th>\n",
       "      <th>Total_Number_Stores</th>\n",
       "      <th>Total_Walgreens_Stores</th>\n",
       "      <th>Walgreens_Presence_%</th>\n",
       "    </tr>\n",
       "  </thead>\n",
       "  <tbody>\n",
       "    <tr>\n",
       "      <th>1668</th>\n",
       "      <td>Carrollton</td>\n",
       "      <td>4.0</td>\n",
       "      <td>0.0</td>\n",
       "      <td>0.00</td>\n",
       "    </tr>\n",
       "    <tr>\n",
       "      <th>2621</th>\n",
       "      <td>Dallas</td>\n",
       "      <td>211.0</td>\n",
       "      <td>16.0</td>\n",
       "      <td>7.58</td>\n",
       "    </tr>\n",
       "    <tr>\n",
       "      <th>10997</th>\n",
       "      <td>University Park</td>\n",
       "      <td>1.0</td>\n",
       "      <td>0.0</td>\n",
       "      <td>0.00</td>\n",
       "    </tr>\n",
       "    <tr>\n",
       "      <th>4274</th>\n",
       "      <td>Grand Prairie</td>\n",
       "      <td>11.0</td>\n",
       "      <td>1.0</td>\n",
       "      <td>9.09</td>\n",
       "    </tr>\n",
       "    <tr>\n",
       "      <th>9367</th>\n",
       "      <td>Rowlett</td>\n",
       "      <td>4.0</td>\n",
       "      <td>0.0</td>\n",
       "      <td>0.00</td>\n",
       "    </tr>\n",
       "  </tbody>\n",
       "</table>\n",
       "</div>"
      ],
      "text/plain": [
       "                  city  Total_Number_Stores  Total_Walgreens_Stores  \\\n",
       "1668        Carrollton                  4.0                     0.0   \n",
       "2621            Dallas                211.0                    16.0   \n",
       "10997  University Park                  1.0                     0.0   \n",
       "4274     Grand Prairie                 11.0                     1.0   \n",
       "9367           Rowlett                  4.0                     0.0   \n",
       "\n",
       "       Walgreens_Presence_%  \n",
       "1668                   0.00  \n",
       "2621                   7.58  \n",
       "10997                  0.00  \n",
       "4274                   9.09  \n",
       "9367                   0.00  "
      ]
     },
     "execution_count": 18,
     "metadata": {},
     "output_type": "execute_result"
    }
   ],
   "source": [
    "# input\n",
    "selected_state = 'Texas'\n",
    "selected_county = 'Dallas'\n",
    "recomendar_locacion(selected_state,selected_county)"
   ]
  },
  {
   "cell_type": "code",
   "execution_count": null,
   "metadata": {},
   "outputs": [],
   "source": []
  }
 ],
 "metadata": {
  "kernelspec": {
   "display_name": "Python 3",
   "language": "python",
   "name": "python3"
  },
  "language_info": {
   "codemirror_mode": {
    "name": "ipython",
    "version": 3
   },
   "file_extension": ".py",
   "mimetype": "text/x-python",
   "name": "python",
   "nbconvert_exporter": "python",
   "pygments_lexer": "ipython3",
   "version": "3.12.0"
  }
 },
 "nbformat": 4,
 "nbformat_minor": 2
}
